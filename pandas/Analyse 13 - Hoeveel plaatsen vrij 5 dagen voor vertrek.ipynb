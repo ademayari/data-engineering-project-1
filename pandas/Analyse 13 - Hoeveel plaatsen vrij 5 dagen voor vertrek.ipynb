{
 "cells": [
  {
   "cell_type": "code",
   "execution_count": 7,
   "id": "73feef5d",
   "metadata": {},
   "outputs": [],
   "source": [
    "import pandas as pd\n",
    "from pandas_analysis import load_all_csv, IATA_TO_NAME\n",
    "import matplotlib.pyplot as plt\n",
    "from datetime import datetime, timedelta"
   ]
  },
  {
   "cell_type": "code",
   "execution_count": 13,
   "id": "593536d8",
   "metadata": {},
   "outputs": [],
   "source": [
    "data = load_all_csv()\n",
    "data['departure_date'] = pd.to_datetime(data['departure_date'])\n",
    "data['scrape_date'] = pd.to_datetime(data['scrape_date'])"
   ]
  },
  {
   "cell_type": "code",
   "execution_count": 28,
   "id": "ecbe8263",
   "metadata": {},
   "outputs": [
    {
     "name": "stdout",
     "output_type": "stream",
     "text": [
      "Total number of seats available 5 days before departure: 1.7741347905282332\n"
     ]
    }
   ],
   "source": [
    "# Calculate the total number of available seats for flights that are 5 days away from departure\n",
    "five_days_away = data[(data['departure_date'] - data['scrape_date']) == timedelta(days=5)]\n",
    "total_seats_available = five_days_away['available_seats'].mean()\n",
    "print(f\"Total number of seats available 5 days before departure: {total_seats_available}\")"
   ]
  },
  {
   "cell_type": "code",
   "execution_count": null,
   "id": "8e414314",
   "metadata": {},
   "outputs": [],
   "source": []
  }
 ],
 "metadata": {
  "kernelspec": {
   "display_name": "Python 3 (ipykernel)",
   "language": "python",
   "name": "python3"
  },
  "language_info": {
   "codemirror_mode": {
    "name": "ipython",
    "version": 3
   },
   "file_extension": ".py",
   "mimetype": "text/x-python",
   "name": "python",
   "nbconvert_exporter": "python",
   "pygments_lexer": "ipython3",
   "version": "3.9.13"
  }
 },
 "nbformat": 4,
 "nbformat_minor": 5
}
