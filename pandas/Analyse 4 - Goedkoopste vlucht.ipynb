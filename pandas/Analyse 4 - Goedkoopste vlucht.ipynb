{
 "cells": [
  {
   "cell_type": "code",
   "execution_count": 5,
   "metadata": {},
   "outputs": [],
   "source": [
    "import pandas as pd\n",
    "from datetime import datetime as dt\n",
    "from pandas_analysis import load_all_csv\n",
    "\n",
    "data = load_all_csv()\n"
   ]
  },
  {
   "cell_type": "code",
   "execution_count": 21,
   "metadata": {},
   "outputs": [
    {
     "ename": "TypeError",
     "evalue": "strptime() argument 1 must be str, not Series",
     "output_type": "error",
     "traceback": [
      "\u001b[0;31m---------------------------------------------------------------------------\u001b[0m",
      "\u001b[0;31mTypeError\u001b[0m                                 Traceback (most recent call last)",
      "Cell \u001b[0;32mIn[21], line 2\u001b[0m\n\u001b[1;32m      1\u001b[0m correct_data \u001b[39m=\u001b[39m data\u001b[39m.\u001b[39mloc[\n\u001b[0;32m----> 2\u001b[0m     dt\u001b[39m.\u001b[39;49mstrptime(data[\u001b[39m\"\u001b[39;49m\u001b[39mdeparture_date\u001b[39;49m\u001b[39m\"\u001b[39;49m], \u001b[39m\"\u001b[39;49m\u001b[39mYYYY-MM-DD\u001b[39;49m\u001b[39m\"\u001b[39;49m) \u001b[39m-\u001b[39m dt\u001b[39m.\u001b[39mstrptime(data[\u001b[39m\"\u001b[39m\u001b[39mscrape_date\u001b[39m\u001b[39m\"\u001b[39m], \u001b[39m\"\u001b[39m\u001b[39mYYYY-MM-DD\u001b[39m\u001b[39m\"\u001b[39m)\u001b[39m.\u001b[39mdays \u001b[39m<\u001b[39m \u001b[39m14\u001b[39m\n\u001b[1;32m      3\u001b[0m ]\n",
      "\u001b[0;31mTypeError\u001b[0m: strptime() argument 1 must be str, not Series"
     ]
    }
   ],
   "source": [
    "correct_data = data.loc[\n",
    "    dt.strptime(data[\"departure_date\"], \"YYYY-MM-DD\") - dt.strptime(data[\"scrape_date\"], \"YYYY-MM-DD\").days < 14\n",
    "]"
   ]
  },
  {
   "cell_type": "code",
   "execution_count": 9,
   "metadata": {},
   "outputs": [
    {
     "ename": "TypeError",
     "evalue": "strptime() argument 1 must be str, not Series",
     "output_type": "error",
     "traceback": [
      "\u001b[0;31m---------------------------------------------------------------------------\u001b[0m",
      "\u001b[0;31mTypeError\u001b[0m                                 Traceback (most recent call last)",
      "Cell \u001b[0;32mIn[9], line 1\u001b[0m\n\u001b[0;32m----> 1\u001b[0m dt\u001b[39m.\u001b[39;49mstrptime(data[\u001b[39m\"\u001b[39;49m\u001b[39mdeparture_date\u001b[39;49m\u001b[39m\"\u001b[39;49m],\u001b[39m\"\u001b[39;49m\u001b[39mYYY-MM-DD\u001b[39;49m\u001b[39m\"\u001b[39;49m)\n",
      "\u001b[0;31mTypeError\u001b[0m: strptime() argument 1 must be str, not Series"
     ]
    }
   ],
   "source": [
    "dt.strptime(data[\"departure_date\"],\"YYY-MM-DD\")"
   ]
  }
 ],
 "metadata": {
  "kernelspec": {
   "display_name": "DEP-QS7r7OmS",
   "language": "python",
   "name": "python3"
  },
  "language_info": {
   "codemirror_mode": {
    "name": "ipython",
    "version": 3
   },
   "file_extension": ".py",
   "mimetype": "text/x-python",
   "name": "python",
   "nbconvert_exporter": "python",
   "pygments_lexer": "ipython3",
   "version": "3.10.4"
  },
  "orig_nbformat": 4
 },
 "nbformat": 4,
 "nbformat_minor": 2
}
