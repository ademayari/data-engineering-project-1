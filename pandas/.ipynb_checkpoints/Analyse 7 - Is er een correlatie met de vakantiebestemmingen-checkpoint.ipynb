{
 "cells": [
  {
   "cell_type": "markdown",
   "metadata": {},
   "source": [
    "# Analyse 7: Is er een correlatie met de vakantiebestemmingen: zijn bepaalde bestemmingen significant duurder dan andere bestemmingen?"
   ]
  },
  {
   "cell_type": "code",
   "execution_count": 2,
   "metadata": {},
   "outputs": [],
   "source": [
    "import pandas as pd\n",
    "\n",
    "from pandas_analysis import load_all_csv\n",
    "\n",
    "df = load_all_csv()"
   ]
  },
  {
   "cell_type": "code",
   "execution_count": 6,
   "metadata": {},
   "outputs": [],
   "source": [
    "# add average of flight cost over different points in time\n",
    "d = {}\n",
    "for x in df[\"flight_id\"].unique():\n",
    "    if x not in d.keys():\n",
    "        d[x] = df[df[\"flight_id\"] == x][\"price\"].mean()"
   ]
  },
  {
   "cell_type": "code",
   "execution_count": 62,
   "metadata": {},
   "outputs": [
    {
     "data": {
      "text/html": [
       "<div>\n",
       "<style scoped>\n",
       "    .dataframe tbody tr th:only-of-type {\n",
       "        vertical-align: middle;\n",
       "    }\n",
       "\n",
       "    .dataframe tbody tr th {\n",
       "        vertical-align: top;\n",
       "    }\n",
       "\n",
       "    .dataframe thead th {\n",
       "        text-align: right;\n",
       "    }\n",
       "</style>\n",
       "<table border=\"1\" class=\"dataframe\">\n",
       "  <thead>\n",
       "    <tr style=\"text-align: right;\">\n",
       "      <th></th>\n",
       "      <th>flight_id</th>\n",
       "      <th>avg_price</th>\n",
       "    </tr>\n",
       "  </thead>\n",
       "  <tbody>\n",
       "    <tr>\n",
       "      <th>0</th>\n",
       "      <td>FR_CRL_AGP_2023-05-10_FR1916</td>\n",
       "      <td>109.509091</td>\n",
       "    </tr>\n",
       "    <tr>\n",
       "      <th>1</th>\n",
       "      <td>FR_CRL_RHO_2023-05-10_FR8577</td>\n",
       "      <td>123.560606</td>\n",
       "    </tr>\n",
       "    <tr>\n",
       "      <th>2</th>\n",
       "      <td>FR_CRL_NAP_2023-05-10_FR1302</td>\n",
       "      <td>63.024848</td>\n",
       "    </tr>\n",
       "    <tr>\n",
       "      <th>3</th>\n",
       "      <td>FR_CRL_FAO_2023-05-10_FR6312</td>\n",
       "      <td>89.006061</td>\n",
       "    </tr>\n",
       "    <tr>\n",
       "      <th>4</th>\n",
       "      <td>FR_CRL_ALC_2023-05-10_FR3534</td>\n",
       "      <td>118.503333</td>\n",
       "    </tr>\n",
       "    <tr>\n",
       "      <th>...</th>\n",
       "      <td>...</td>\n",
       "      <td>...</td>\n",
       "    </tr>\n",
       "    <tr>\n",
       "      <th>5586</th>\n",
       "      <td>HV_BRU_HER_2023-07-29_HV9211</td>\n",
       "      <td>222.0</td>\n",
       "    </tr>\n",
       "    <tr>\n",
       "      <th>5587</th>\n",
       "      <td>HV_BRU_HER_2023-08-15_HV9209</td>\n",
       "      <td>241.0</td>\n",
       "    </tr>\n",
       "    <tr>\n",
       "      <th>5588</th>\n",
       "      <td>HV_BRU_HER_2023-08-22_HV9209</td>\n",
       "      <td>161.0</td>\n",
       "    </tr>\n",
       "    <tr>\n",
       "      <th>5589</th>\n",
       "      <td>HV_BRU_FAO_2023-08-13_HV9011</td>\n",
       "      <td>122.0</td>\n",
       "    </tr>\n",
       "    <tr>\n",
       "      <th>5590</th>\n",
       "      <td>HV_BRU_HER_2023-09-09_HV9211</td>\n",
       "      <td>161.0</td>\n",
       "    </tr>\n",
       "  </tbody>\n",
       "</table>\n",
       "<p>5591 rows × 2 columns</p>\n",
       "</div>"
      ],
      "text/plain": [
       "                         flight_id   avg_price\n",
       "0     FR_CRL_AGP_2023-05-10_FR1916  109.509091\n",
       "1     FR_CRL_RHO_2023-05-10_FR8577  123.560606\n",
       "2     FR_CRL_NAP_2023-05-10_FR1302   63.024848\n",
       "3     FR_CRL_FAO_2023-05-10_FR6312   89.006061\n",
       "4     FR_CRL_ALC_2023-05-10_FR3534  118.503333\n",
       "...                            ...         ...\n",
       "5586  HV_BRU_HER_2023-07-29_HV9211       222.0\n",
       "5587  HV_BRU_HER_2023-08-15_HV9209       241.0\n",
       "5588  HV_BRU_HER_2023-08-22_HV9209       161.0\n",
       "5589  HV_BRU_FAO_2023-08-13_HV9011       122.0\n",
       "5590  HV_BRU_HER_2023-09-09_HV9211       161.0\n",
       "\n",
       "[5591 rows x 2 columns]"
      ]
     },
     "execution_count": 62,
     "metadata": {},
     "output_type": "execute_result"
    }
   ],
   "source": [
    "df2 = pd.DataFrame([d.keys(), d.values()]).transpose()\n",
    "df2.columns = [\"flight_id\", \"avg_price\"]\n",
    "df2"
   ]
  },
  {
   "cell_type": "code",
   "execution_count": 63,
   "metadata": {},
   "outputs": [],
   "source": [
    "df2[\"to\"] = df2.flight_id.map(lambda x: x.split('_')[2])"
   ]
  },
  {
   "cell_type": "code",
   "execution_count": 64,
   "metadata": {},
   "outputs": [
    {
     "data": {
      "text/html": [
       "<div>\n",
       "<style scoped>\n",
       "    .dataframe tbody tr th:only-of-type {\n",
       "        vertical-align: middle;\n",
       "    }\n",
       "\n",
       "    .dataframe tbody tr th {\n",
       "        vertical-align: top;\n",
       "    }\n",
       "\n",
       "    .dataframe thead th {\n",
       "        text-align: right;\n",
       "    }\n",
       "</style>\n",
       "<table border=\"1\" class=\"dataframe\">\n",
       "  <thead>\n",
       "    <tr style=\"text-align: right;\">\n",
       "      <th></th>\n",
       "      <th>flight_id</th>\n",
       "      <th>avg_price</th>\n",
       "      <th>to</th>\n",
       "    </tr>\n",
       "  </thead>\n",
       "  <tbody>\n",
       "    <tr>\n",
       "      <th>0</th>\n",
       "      <td>FR_CRL_AGP_2023-05-10_FR1916</td>\n",
       "      <td>109.509091</td>\n",
       "      <td>AGP</td>\n",
       "    </tr>\n",
       "    <tr>\n",
       "      <th>1</th>\n",
       "      <td>FR_CRL_RHO_2023-05-10_FR8577</td>\n",
       "      <td>123.560606</td>\n",
       "      <td>RHO</td>\n",
       "    </tr>\n",
       "    <tr>\n",
       "      <th>2</th>\n",
       "      <td>FR_CRL_NAP_2023-05-10_FR1302</td>\n",
       "      <td>63.024848</td>\n",
       "      <td>NAP</td>\n",
       "    </tr>\n",
       "    <tr>\n",
       "      <th>3</th>\n",
       "      <td>FR_CRL_FAO_2023-05-10_FR6312</td>\n",
       "      <td>89.006061</td>\n",
       "      <td>FAO</td>\n",
       "    </tr>\n",
       "    <tr>\n",
       "      <th>4</th>\n",
       "      <td>FR_CRL_ALC_2023-05-10_FR3534</td>\n",
       "      <td>118.503333</td>\n",
       "      <td>ALC</td>\n",
       "    </tr>\n",
       "    <tr>\n",
       "      <th>...</th>\n",
       "      <td>...</td>\n",
       "      <td>...</td>\n",
       "      <td>...</td>\n",
       "    </tr>\n",
       "    <tr>\n",
       "      <th>5586</th>\n",
       "      <td>HV_BRU_HER_2023-07-29_HV9211</td>\n",
       "      <td>222.0</td>\n",
       "      <td>HER</td>\n",
       "    </tr>\n",
       "    <tr>\n",
       "      <th>5587</th>\n",
       "      <td>HV_BRU_HER_2023-08-15_HV9209</td>\n",
       "      <td>241.0</td>\n",
       "      <td>HER</td>\n",
       "    </tr>\n",
       "    <tr>\n",
       "      <th>5588</th>\n",
       "      <td>HV_BRU_HER_2023-08-22_HV9209</td>\n",
       "      <td>161.0</td>\n",
       "      <td>HER</td>\n",
       "    </tr>\n",
       "    <tr>\n",
       "      <th>5589</th>\n",
       "      <td>HV_BRU_FAO_2023-08-13_HV9011</td>\n",
       "      <td>122.0</td>\n",
       "      <td>FAO</td>\n",
       "    </tr>\n",
       "    <tr>\n",
       "      <th>5590</th>\n",
       "      <td>HV_BRU_HER_2023-09-09_HV9211</td>\n",
       "      <td>161.0</td>\n",
       "      <td>HER</td>\n",
       "    </tr>\n",
       "  </tbody>\n",
       "</table>\n",
       "<p>5591 rows × 3 columns</p>\n",
       "</div>"
      ],
      "text/plain": [
       "                         flight_id   avg_price   to\n",
       "0     FR_CRL_AGP_2023-05-10_FR1916  109.509091  AGP\n",
       "1     FR_CRL_RHO_2023-05-10_FR8577  123.560606  RHO\n",
       "2     FR_CRL_NAP_2023-05-10_FR1302   63.024848  NAP\n",
       "3     FR_CRL_FAO_2023-05-10_FR6312   89.006061  FAO\n",
       "4     FR_CRL_ALC_2023-05-10_FR3534  118.503333  ALC\n",
       "...                            ...         ...  ...\n",
       "5586  HV_BRU_HER_2023-07-29_HV9211       222.0  HER\n",
       "5587  HV_BRU_HER_2023-08-15_HV9209       241.0  HER\n",
       "5588  HV_BRU_HER_2023-08-22_HV9209       161.0  HER\n",
       "5589  HV_BRU_FAO_2023-08-13_HV9011       122.0  FAO\n",
       "5590  HV_BRU_HER_2023-09-09_HV9211       161.0  HER\n",
       "\n",
       "[5591 rows x 3 columns]"
      ]
     },
     "execution_count": 64,
     "metadata": {},
     "output_type": "execute_result"
    }
   ],
   "source": [
    "df2"
   ]
  },
  {
   "cell_type": "code",
   "execution_count": 65,
   "metadata": {},
   "outputs": [
    {
     "name": "stdout",
     "output_type": "stream",
     "text": [
      "f: 105.76792621309588, p: 7.76048417129341e-220\n"
     ]
    }
   ],
   "source": [
    "from scipy.stats import f_oneway\n",
    "\n",
    "groups = [df2[df2[\"to\"] == d][\"avg_price\"] for d in df2[\"to\"].unique()]\n",
    "\n",
    "f, p = f_oneway(*groups)\n",
    "print(f\"f: {f}, p: {p}\")"
   ]
  },
  {
   "cell_type": "code",
   "execution_count": 73,
   "metadata": {},
   "outputs": [
    {
     "data": {
      "text/plain": [
       "<Axes: xlabel='to', ylabel='avg_price'>"
      ]
     },
     "execution_count": 73,
     "metadata": {},
     "output_type": "execute_result"
    },
    {
     "data": {
      "image/png": "[encoded data removed]",
      "text/plain": [
       "<Figure size 640x480 with 1 Axes>"
      ]
     },
     "metadata": {},
     "output_type": "display_data"
    }
   ],
   "source": [
    "import seaborn as sns\n",
    "\n",
    "mean_prices = df2.groupby('to')[\"avg_price\"].mean().sort_values(ascending=False)\n",
    "mean_prices_df = pd.DataFrame({'to': mean_prices.index, 'mean_price': mean_prices.values})\n",
    "\n",
    "\n",
    "sns.boxplot(x='to', y='avg_price', data=df2)"
   ]
  },
  {
   "cell_type": "code",
   "execution_count": 74,
   "metadata": {},
   "outputs": [
    {
     "data": {
      "text/plain": [
       "<Axes: xlabel='to', ylabel='mean_price'>"
      ]
     },
     "execution_count": 74,
     "metadata": {},
     "output_type": "execute_result"
    },
    {
     "data": {
      "image/png": "[encoded data removed]",
      "text/plain": [
       "<Figure size 640x480 with 1 Axes>"
      ]
     },
     "metadata": {},
     "output_type": "display_data"
    }
   ],
   "source": [
    "\n",
    "sns.pointplot(x='to', y='mean_price', data=mean_prices_df, join=False, errorbar='sd')"
   ]
  }
 ],
 "metadata": {
  "kernelspec": {
   "display_name": "Python 3 (ipykernel)",
   "language": "python",
   "name": "python3"
  },
  "language_info": {
   "codemirror_mode": {
    "name": "ipython",
    "version": 3
   },
   "file_extension": ".py",
   "mimetype": "text/x-python",
   "name": "python",
   "nbconvert_exporter": "python",
   "pygments_lexer": "ipython3",
   "version": "3.9.13"
  }
 },
 "nbformat": 4,
 "nbformat_minor": 2
}
