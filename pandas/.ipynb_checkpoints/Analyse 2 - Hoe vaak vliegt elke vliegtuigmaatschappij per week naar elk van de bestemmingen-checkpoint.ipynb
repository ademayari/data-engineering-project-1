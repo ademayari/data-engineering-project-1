{
 "cells": [
  {
   "cell_type": "code",
   "execution_count": 2,
   "id": "a76a0f28",
   "metadata": {},
   "outputs": [],
   "source": [
    "import pandas as pd\n",
    "from pandas_analysis import load_all_csv\n",
    "import matplotlib.pyplot as plt\n",
    "\n",
    "data = load_all_csv()"
   ]
  },
  {
   "cell_type": "code",
   "execution_count": null,
   "id": "c490e8d4",
   "metadata": {},
   "outputs": [],
   "source": []
  }
 ],
 "metadata": {
  "kernelspec": {
   "display_name": "Python 3 (ipykernel)",
   "language": "python",
   "name": "python3"
  },
  "language_info": {
   "codemirror_mode": {
    "name": "ipython",
    "version": 3
   },
   "file_extension": ".py",
   "mimetype": "text/x-python",
   "name": "python",
   "nbconvert_exporter": "python",
   "pygments_lexer": "ipython3",
   "version": "3.9.13"
  }
 },
 "nbformat": 4,
 "nbformat_minor": 5
}
